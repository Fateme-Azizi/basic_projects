{
 "cells": [
  {
   "cell_type": "code",
   "execution_count": 1,
   "id": "97bec99c",
   "metadata": {},
   "outputs": [],
   "source": [
    "import requests\n",
    "import json\n",
    "import os\n",
    "import requests\n",
    "import PyPDF2\n",
    "from PIL import Image"
   ]
  },
  {
   "cell_type": "code",
   "execution_count": 5,
   "id": "acc74e29",
   "metadata": {},
   "outputs": [],
   "source": [
    "class FileDownloader:\n",
    "    \n",
    "    def __init__(self):\n",
    "        self.BASE_PATH = input(\"Enter the path you want to save your media:\\n\")\n",
    "\n",
    "    def download_url(self, url):\n",
    "        return requests.get(url) \n",
    "        \n",
    "    def create_folder(self, directory):\n",
    "        folder = self.BASE_PATH + \"/\" + directory\n",
    "        if not os.path.exists(folder):\n",
    "            os.makedirs(folder)\n",
    "        return folder\n",
    "    \n",
    "    def download_pdf(self, link, _type, brand):\n",
    "        if not \"https:\" in link:\n",
    "            link = \"https:\" + link\n",
    "            link = link.replace(\" \", \"%20\")\n",
    "        directory = self.create_folder(\"pdfs/\" + _type + \"/\" + brand + \"/\")\n",
    "        file_name = link.split(\"/\")[-1]\n",
    "        path = directory + file_name\n",
    "        with open(path, 'wb') as f:\n",
    "            f.write(self.download_url(link).content)\n",
    "        print(\"PDF downloaded and saved successfully...\")\n",
    "        return path\n",
    "    \n",
    "    def download_image(self, link, _type, brand):\n",
    "        directory = self.create_folder(\"images/\" + _type + \"/\" + brand + \"/\")\n",
    "        try:\n",
    "            file_name = link.split(\"jpg\")[0]\n",
    "            file_name = str(file_name.split(\"/\")[-1])\n",
    "        except:\n",
    "            file_name = link.split(\"png\")[0]\n",
    "            file_name = str(file_name.split(\"/\")[-1])\n",
    "        path = directory + file_name\n",
    "        with open(path, 'wb') as f:\n",
    "            f.write(self.download_url(link).content)\n",
    "        print(\"Image downloaded and saved successfully...\")\n",
    "        return path\n",
    "    \n",
    "     \n",
    "    def download_media(self, link, media_type, _type, brand):\n",
    "        directory = self.create_folder(media_type + \"/\" + _type + \"/\" + brand + \"/\")\n",
    "        try:\n",
    "            file_name = link.split(\"jpg\")[0]\n",
    "            file_name = str(file_name.split(\"/\")[-1])\n",
    "        except:\n",
    "            file_name = link.split(\"png\")[0]\n",
    "            file_name = str(file_name.split(\"/\")[-1])\n",
    "        path = directory + file_name\n",
    "        with open(path, 'wb') as f:\n",
    "            f.write(self.download_url(link).content)\n",
    "            \n",
    "        print(\"PDF downloaded and saved successfully...\")\n",
    "        return path\n",
    "        \n",
    "        \n"
   ]
  },
  {
   "cell_type": "code",
   "execution_count": 6,
   "id": "f7cb92dc",
   "metadata": {},
   "outputs": [
    {
     "name": "stdout",
     "output_type": "stream",
     "text": [
      "Enter the path you want to save your media:\n",
      "C:\\Users\\Administrator\\Desktop\\Robots\n",
      "Image downloaded and saved successfully...\n"
     ]
    },
    {
     "data": {
      "text/plain": [
       "'C:\\\\Users\\\\Administrator\\\\Desktop\\\\Robots/images/cat/Omron/b233292a.png'"
      ]
     },
     "execution_count": 6,
     "metadata": {},
     "output_type": "execute_result"
    }
   ],
   "source": [
    "downloader = FileDownloader()\n",
    "link = r'https://files.pepperl-fuchs.com/webcat/navi/productInfo/pd/b233292a.png'\n",
    "downloader.download_image(link,\"cat\", \"Omron\")"
   ]
  },
  {
   "cell_type": "code",
   "execution_count": null,
   "id": "afed71a0",
   "metadata": {},
   "outputs": [],
   "source": []
  }
 ],
 "metadata": {
  "kernelspec": {
   "display_name": "Python 3 (ipykernel)",
   "language": "python",
   "name": "python3"
  },
  "language_info": {
   "codemirror_mode": {
    "name": "ipython",
    "version": 3
   },
   "file_extension": ".py",
   "mimetype": "text/x-python",
   "name": "python",
   "nbconvert_exporter": "python",
   "pygments_lexer": "ipython3",
   "version": "3.10.9"
  }
 },
 "nbformat": 4,
 "nbformat_minor": 5
}
