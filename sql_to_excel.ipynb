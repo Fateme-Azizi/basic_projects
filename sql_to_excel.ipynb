{
 "cells": [
  {
   "cell_type": "markdown",
   "id": "1f34d63a",
   "metadata": {},
   "source": [
    "### Import libraries"
   ]
  },
  {
   "cell_type": "code",
   "execution_count": 1,
   "id": "151a7767",
   "metadata": {},
   "outputs": [],
   "source": [
    "import mysql.connector\n",
    "import pandas as pd\n",
    "import warnings\n",
    "import os"
   ]
  },
  {
   "cell_type": "markdown",
   "id": "53f3d6f0",
   "metadata": {},
   "source": [
    "### Convert sql tables into xlsx files and save in adirectory"
   ]
  },
  {
   "cell_type": "code",
   "execution_count": 3,
   "id": "6501b895",
   "metadata": {},
   "outputs": [],
   "source": [
    "def create_folder(directory, name):\n",
    "    folder = directory + name\n",
    "    if not os.path.exists(folder):\n",
    "        return os.makedirs(folder)\n",
    "    else:\n",
    "        return folder\n",
    "\n",
    "def sqlToexcel(database, directory):\n",
    "    \n",
    "    # set up connection toi database\n",
    "    mydb = mysql.connector.connect(\n",
    "      host=\"localhost\",\n",
    "      user=\"root\",\n",
    "      password=\"\",\n",
    "      database= database\n",
    "    )\n",
    "    mycursor = mydb.cursor(dictionary=True)\n",
    "    \n",
    "    # Fetch all the tables\n",
    "    mycursor.execute(\"SHOW TABLES\")\n",
    "    tables = mycursor.fetchall()\n",
    "\n",
    "    for table in tables:\n",
    "        # SQL query to retrieve data from the table\n",
    "        table_name = table[f'Tables_in_{database}']\n",
    "        sql_query = f\"SELECT * FROM {table_name}\"\n",
    "        \n",
    "        # Ignore all warnings\n",
    "        warnings.filterwarnings(\"ignore\")\n",
    "        \n",
    "        # Write data into a DataFrame\n",
    "        df = pd.read_sql(sql_query, mydb)\n",
    "        \n",
    "        #Create a folder to save files\n",
    "        create_folder(directory,database)\n",
    "        \n",
    "        # Convert DataFrame to Excel and save it\n",
    "        df.to_excel(directory+ database + '\\\\' +f\"{table_name}.xlsx\", index=False)\n",
    "        \n",
    "        print(f\"{table_name} ----------------- successfully converted...!\")"
   ]
  }
 ],
 "metadata": {
  "kernelspec": {
   "display_name": "Python 3 (ipykernel)",
   "language": "python",
   "name": "python3"
  },
  "language_info": {
   "codemirror_mode": {
    "name": "ipython",
    "version": 3
   },
   "file_extension": ".py",
   "mimetype": "text/x-python",
   "name": "python",
   "nbconvert_exporter": "python",
   "pygments_lexer": "ipython3",
   "version": "3.10.8"
  }
 },
 "nbformat": 4,
 "nbformat_minor": 5
}
